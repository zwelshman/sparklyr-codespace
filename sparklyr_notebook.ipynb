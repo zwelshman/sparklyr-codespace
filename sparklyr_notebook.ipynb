{
 "cells": [
  {
   "cell_type": "code",
   "execution_count": null,
   "metadata": {},
   "outputs": [],
   "source": [
    "library(sparklyr)"
   ]
  },
  {
   "cell_type": "code",
   "execution_count": null,
   "metadata": {},
   "outputs": [],
   "source": [
    "# Create a Spark DataFrame in SparklyR with 10 rows and columns dummy_patient: integer, dummy_diag: string, dummy_date: date, dummy_time: HH:MM:SS and dumy_data_source,F.lit( 'dummy_dataset_1')\n",
    "\n",
    "\n",
    "df_dummy_dataset_1 <- data.frame(dummy_patient = c(1,2,3,4,5,6,7,8,9,10),\n",
    "                                 dummy_diag = c('A','B','C','D','E','F','G','H','I','J'),\n",
    "                                 dummy_date = c('01/01/2018','02/01/2018','03/01/2018','04/01/2018','05/01/2018','06/01/2018','07/01/2018','08/01/2018','09/01/2018','10/01/2018'),\n",
    "                                 dummy_time = c('00:00:00','00:00:00','00:00:00','00:00:00','00:00:00','00:00:00','00:00:00','00:00:00','00:00:00','00:00:00'),\n",
    "                                 dummy_data_source = F.lit('dummy_dataset_1'))\n",
    "\n",
    "df_dummy_dataset_1 <- sdf_copy_to(sc, df_dummy_dataset_1, overwrite = TRUE)"
   ]
  },
  {
   "cell_type": "code",
   "execution_count": 1,
   "metadata": {},
   "outputs": [
    {
     "ename": "NameError",
     "evalue": "name 'df_dummy_dataset_1' is not defined",
     "output_type": "error",
     "traceback": [
      "\u001b[0;31m---------------------------------------------------------------------------\u001b[0m",
      "\u001b[0;31mNameError\u001b[0m                                 Traceback (most recent call last)",
      "Cell \u001b[0;32mIn[1], line 1\u001b[0m\n\u001b[0;32m----> 1\u001b[0m df_dummy_dataset_1\n",
      "\u001b[0;31mNameError\u001b[0m: name 'df_dummy_dataset_1' is not defined"
     ]
    }
   ],
   "source": [
    "df_dummy_dataset_1"
   ]
  },
  {
   "cell_type": "code",
   "execution_count": null,
   "metadata": {},
   "outputs": [],
   "source": []
  }
 ],
 "metadata": {
  "kernelspec": {
   "display_name": "Python 3",
   "language": "python",
   "name": "python3"
  },
  "language_info": {
   "codemirror_mode": {
    "name": "ipython",
    "version": 3
   },
   "file_extension": ".py",
   "mimetype": "text/x-python",
   "name": "python",
   "nbconvert_exporter": "python",
   "pygments_lexer": "ipython3",
   "version": "3.10.4 (main, Nov 29 2022, 20:00:25) [GCC 9.4.0]"
  },
  "orig_nbformat": 4,
  "vscode": {
   "interpreter": {
    "hash": "3ad933181bd8a04b432d3370b9dc3b0662ad032c4dfaa4e4f1596c548f763858"
   }
  }
 },
 "nbformat": 4,
 "nbformat_minor": 2
}
